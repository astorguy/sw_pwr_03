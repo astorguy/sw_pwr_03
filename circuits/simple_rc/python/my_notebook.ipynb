{
 "cells": [
  {
   "cell_type": "markdown",
   "metadata": {},
   "source": [
    "#### Imports"
   ]
  },
  {
   "cell_type": "code",
   "execution_count": 15,
   "metadata": {},
   "outputs": [],
   "source": [
    "import os\n",
    "from pathlib import Path\n",
    "import copy\n",
    "from typing import TypeAlias\n",
    "import numpy as np\n",
    "import numpy.typing as npt\n",
    "import py4spice as spi\n",
    "from py4spice import globals_types"
   ]
  },
  {
   "cell_type": "markdown",
   "metadata": {},
   "source": [
    "#### Constants and directories"
   ]
  },
  {
   "cell_type": "code",
   "execution_count": 16,
   "metadata": {},
   "outputs": [],
   "source": [
    "# Path to NGSPICE\n",
    "NGSPICE_EXE = Path(\"/usr/bin/ngspice\")\n",
    "\n",
    "# Path to my project\n",
    "PROJ_PATH = Path(\"/workspaces/sw_pwr_03/circuits/simple_rc\")\n",
    "\n",
    "# where to put results\n",
    "RESULTS_PATH = PROJ_PATH / \"results\"\n",
    "\n",
    "# netlist file names\n",
    "NETLISTS_PATH = PROJ_PATH / \"netlists\"\n",
    "TOP_FILENAME = NETLISTS_PATH / \"top.cir\"\n",
    "DUT_FILENAME = NETLISTS_PATH / \"dut.cir\"\n",
    "LOAD_FILENAME = NETLISTS_PATH / \"load.cir\"\n",
    "STIMULUS_FILENAME = NETLISTS_PATH / \"stimulus.cir\"\n",
    "SUPPLIES_FILENAME = NETLISTS_PATH / \"supplies.cir\"\n",
    "CONTROL_FILENAME = NETLISTS_PATH / \"control.cir\""
   ]
  },
  {
   "cell_type": "markdown",
   "metadata": {},
   "source": [
    "#### Create netlists objects. We'll combine them after \"control\" netlist is constructed."
   ]
  },
  {
   "cell_type": "code",
   "execution_count": 17,
   "metadata": {},
   "outputs": [],
   "source": [
    "dut = spi.Netlist(NETLISTS_PATH / DUT_FILENAME)\n",
    "load = spi.Netlist(NETLISTS_PATH / LOAD_FILENAME)\n",
    "supplies = spi.Netlist(NETLISTS_PATH / SUPPLIES_FILENAME)\n",
    "stimulus = spi.Netlist(NETLISTS_PATH / STIMULUS_FILENAME)"
   ]
  },
  {
   "cell_type": "markdown",
   "metadata": {},
   "source": [
    "#### Create signal vectors"
   ]
  },
  {
   "cell_type": "code",
   "execution_count": 18,
   "metadata": {},
   "outputs": [],
   "source": [
    "VEC_ALL = spi.Vectors(\"all\")\n",
    "VEC_INTEREST = spi.Vectors(\"in mid out\")"
   ]
  },
  {
   "cell_type": "markdown",
   "metadata": {},
   "source": [
    "#### Define analyses"
   ]
  },
  {
   "cell_type": "code",
   "execution_count": 19,
   "metadata": {},
   "outputs": [],
   "source": [
    "list_of_analyses: list[spi.Analyses] = []\n",
    "\n",
    "# 1st analysis: operating point\n",
    "op_cmd = \"op\"\n",
    "op1 = spi.Analyses(\"op1\", \"op\", op_cmd, VEC_ALL, RESULTS_PATH)\n",
    "list_of_analyses.append(op1)\n",
    "\n",
    "# 2nd analysis: transient with time-end = 20m\n",
    "tr_cmd = \"tran 1e-3 20e-3\"\n",
    "tr1 = spi.Analyses(\"tr1\", \"tran\", tr_cmd, VEC_ALL, RESULTS_PATH)\n",
    "list_of_analyses.append(tr1)"
   ]
  },
  {
   "cell_type": "markdown",
   "metadata": {},
   "source": [
    "#### Create control section"
   ]
  },
  {
   "cell_type": "code",
   "execution_count": 20,
   "metadata": {},
   "outputs": [
    {
     "name": "stdout",
     "output_type": "stream",
     "text": [
      "\n",
      "--- Control File ---\n",
      ".control\n",
      "* Timestamp: Fri Feb  2 04:18:09 2024\n",
      "set wr_singlescale  $ makes one x-axis for wrdata\n",
      "set wr_vecnames     $ puts names at top of columns\n",
      "listing\n",
      "op\n",
      "print line all > /workspaces/sw_pwr_03/circuits/simple_rc/results/op1.txt\n",
      "tran 1e-3 20e-3\n",
      "wrdata /workspaces/sw_pwr_03/circuits/simple_rc/results/tr1.txt all\n",
      "quit\n",
      ".endc\n",
      "--------------------\n",
      "\n"
     ]
    }
   ],
   "source": [
    "my_control = spi.Control()  # create 'my_control' object\n",
    "my_control.insert_lines([\"listing\"])  # cmd to list out netlist\n",
    "for analysis in list_of_analyses:  # statements for all analyses\n",
    "    my_control.insert_lines(analysis.lines_for_cntl())\n",
    "spi.print_section(\"Control File\", my_control)  # print out contents\n",
    "my_control.content_to_file(CONTROL_FILENAME)  # creat the actual file\n",
    "control = spi.Netlist(NETLISTS_PATH / CONTROL_FILENAME)"
   ]
  },
  {
   "cell_type": "markdown",
   "metadata": {},
   "source": [
    "#### Simulate"
   ]
  },
  {
   "cell_type": "code",
   "execution_count": 21,
   "metadata": {},
   "outputs": [
    {
     "name": "stdout",
     "output_type": "stream",
     "text": [
      "\n",
      "--- top netlist ---\n",
      "R1 IN MID 1K\n",
      "C1 COM MID 0.1U\n",
      "R2 MID OUT 100\n",
      "RLOAD OUT COM 100K\n",
      "VCOM COM 0 0\n",
      "* VIN IN 0 1\n",
      "* PULSE (V1 V2 TD TR TF PW PER NP)\n",
      "VIN IN 0 PULSE (0 10 0 3N 3N 100M)\n",
      ".op\n",
      ".control\n",
      "* Timestamp: Fri Feb 2 04:18:09 2024\n",
      "set wr_singlescale $ makes one x-axis for wrdata\n",
      "set wr_vecnames $ puts names at top of columns\n",
      "listing\n",
      "op\n",
      "print line all > /workspaces/sw_pwr_03/circuits/simple_rc/results/op1.txt\n",
      "tran 1e-3 20e-3\n",
      "wrdata /workspaces/sw_pwr_03/circuits/simple_rc/results/tr1.txt all\n",
      "quit\n",
      ".endc\n",
      "-------------------\n",
      "\n",
      "\n",
      "--- Ngspice Command ---\n",
      "/usr/bin/ngspice -b /workspaces/sw_pwr_03/circuits/simple_rc/netlists/top.cir\n",
      "-----------------------\n",
      "\n",
      "\n",
      "Note: No compatibility mode selected!\n",
      "\n",
      "\n",
      "Circuit: r1 in mid 1k\n",
      "\n",
      "\tr1 in mid 1k\n",
      "\n",
      "     1 : r1 in mid 1k\n",
      "     2 : .global gnd\n",
      "     3 : c1 com mid 0.1u\n",
      "     4 : r2 mid out 100\n",
      "     5 : rload out com 100k\n",
      "     6 : vcom com 0 0\n",
      "     9 : vin in 0 pulse (0 10 0 3n 3n 100m)\n",
      "    10 : .op\n",
      "    11 : .control\n",
      "    13 : set wr_singlescale\n",
      "    14 : set wr_vecnames\n",
      "    15 : listing\n",
      "    16 : op\n",
      "    17 : print line all > /workspaces/sw_pwr_03/circuits/simple_rc/results/op1.txt\n",
      "    18 : tran 1e-3 20e-3\n",
      "    19 : wrdata /workspaces/sw_pwr_03/circuits/simple_rc/results/tr1.txt all\n",
      "    20 : quit\n",
      "    21 : .endc\n",
      "    22 : .end\n",
      "Doing analysis at TEMP = 27.000000 and TNOM = 27.000000\n",
      "\n",
      "\n",
      "No. of Data Rows : 1\n",
      "Doing analysis at TEMP = 27.000000 and TNOM = 27.000000\n",
      "\n",
      "\n",
      "Initial Transient Solution\n",
      "--------------------------\n",
      "\n",
      "Node                                   Voltage\n",
      "----                                   -------\n",
      "com                                          0\n",
      "mid                                          0\n",
      "out                                          0\n",
      "in                                           0\n",
      "vin#branch                                   0\n",
      "vcom#branch                                  0\n",
      "\n",
      "\n",
      "No. of Data Rows : 79\n",
      "ngspice-39 done\n"
     ]
    }
   ],
   "source": [
    "# Combine the netlists and write out into one top netlist, ready to simulate\n",
    "top = dut + load + supplies + stimulus + control\n",
    "top.writefile(TOP_FILENAME)\n",
    "spi.print_section(\"top netlist\", top)\n",
    "\n",
    "sim1 = spi.Simulate(NGSPICE_EXE, TOP_FILENAME)\n",
    "spi.print_section(\"Ngspice Command\", sim1)\n",
    "sim1.run()"
   ]
  },
  {
   "cell_type": "markdown",
   "metadata": {},
   "source": [
    "#### Simulation results to numpy"
   ]
  },
  {
   "cell_type": "code",
   "execution_count": 23,
   "metadata": {},
   "outputs": [
    {
     "name": "stdout",
     "output_type": "stream",
     "text": [
      "dup indexes are: [5]\n"
     ]
    }
   ],
   "source": [
    "sim_results = [\n",
    "    spi.SimResults.from_file(analysis.cmd_type, analysis.results_filename)\n",
    "    for analysis in list_of_analyses\n",
    "]"
   ]
  },
  {
   "cell_type": "markdown",
   "metadata": {},
   "source": [
    "#### First simulation results: operating point"
   ]
  },
  {
   "cell_type": "code",
   "execution_count": 26,
   "metadata": {},
   "outputs": [
    {
     "name": "stdout",
     "output_type": "stream",
     "text": [
      "0.0\n",
      "\n",
      "--- Operating Point Results ---\n",
      "com           0.0\n",
      "in            0.0\n",
      "mid           0.0\n",
      "out           0.0\n",
      "vcom#branch   0.0\n",
      "vin#branch    0.0\n",
      "-------------------------------\n",
      "\n"
     ]
    }
   ],
   "source": [
    "# 1st simulation was operating point\n",
    "spi.print_section(\"Operating Point Results\", sim_results[0].print_table())\n"
   ]
  },
  {
   "cell_type": "markdown",
   "metadata": {},
   "source": [
    "#### Second simulation results: transient"
   ]
  },
  {
   "cell_type": "code",
   "execution_count": null,
   "metadata": {},
   "outputs": [],
   "source": [
    "# 2nd simulation was transient\n",
    "plot_tr(tr1, VEC_ALL, RESULTS_PATH)"
   ]
  }
 ],
 "metadata": {
  "kernelspec": {
   "display_name": "Python 3",
   "language": "python",
   "name": "python3"
  },
  "language_info": {
   "codemirror_mode": {
    "name": "ipython",
    "version": 3
   },
   "file_extension": ".py",
   "mimetype": "text/x-python",
   "name": "python",
   "nbconvert_exporter": "python",
   "pygments_lexer": "ipython3",
   "version": "3.12.1"
  }
 },
 "nbformat": 4,
 "nbformat_minor": 2
}
