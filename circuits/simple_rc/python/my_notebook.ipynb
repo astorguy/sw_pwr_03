{
 "cells": [
  {
   "cell_type": "markdown",
   "metadata": {},
   "source": [
    "#### Imports"
   ]
  },
  {
   "cell_type": "code",
   "execution_count": 1,
   "metadata": {},
   "outputs": [],
   "source": [
    "import os\n",
    "from pathlib import Path\n",
    "import copy\n",
    "from typing import TypeAlias\n",
    "import numpy as np\n",
    "import numpy.typing as npt\n",
    "import py4spice as spi\n"
   ]
  },
  {
   "cell_type": "markdown",
   "metadata": {},
   "source": [
    "#### Constants and directories"
   ]
  },
  {
   "cell_type": "code",
   "execution_count": 2,
   "metadata": {},
   "outputs": [],
   "source": [
    "# Path to NGSPICE\n",
    "NGSPICE_EXE = Path(\"/usr/bin/ngspice\")\n",
    "\n",
    "# Path to my project\n",
    "PROJ_PATH = Path(\"/workspaces/sw_pwr_03/circuits/simple_rc\")\n",
    "\n",
    "# netlist file names\n",
    "NETLISTS_PATH = PROJ_PATH / \"netlists\"\n",
    "TOP_FILENAME = NETLISTS_PATH / \"top.cir\"\n",
    "TOP_ORIG_FILENAME = NETLISTS_PATH / \"top_orig.cir\""
   ]
  },
  {
   "cell_type": "markdown",
   "metadata": {},
   "source": [
    "#### Create netlists"
   ]
  },
  {
   "cell_type": "code",
   "execution_count": 6,
   "metadata": {},
   "outputs": [
    {
     "name": "stdout",
     "output_type": "stream",
     "text": [
      "R1 IN MID 1K\n",
      "C1 COM MID 0.1U\n",
      "R2 MID OUT 100\n",
      "RLOAD OUT COM 100K\n",
      "VIN IN 0 1\n",
      "VCOM COM 0 0\n",
      "\n",
      "/workspaces/sw_pwr_03/circuits/simple_rc/netlists/top.cir\n"
     ]
    }
   ],
   "source": [
    "dut = spi.Netlist(NETLISTS_PATH / \"dut.cir\")\n",
    "load = spi.Netlist(NETLISTS_PATH / \"load.cir\")\n",
    "stimulus = spi.Netlist(NETLISTS_PATH / \"stimulus.cir\")\n",
    "supplies = spi.Netlist(NETLISTS_PATH / \"supplies.cir\")\n",
    "\n",
    "top = dut + load + stimulus + supplies\n",
    "print(top)\n",
    "print(\"\")\n",
    "top.writefile(TOP_FILENAME)\n",
    "\n",
    "print(TOP_FILENAME)"
   ]
  },
  {
   "cell_type": "markdown",
   "metadata": {},
   "source": [
    "#### Simulate"
   ]
  },
  {
   "cell_type": "code",
   "execution_count": 4,
   "metadata": {},
   "outputs": [
    {
     "name": "stdout",
     "output_type": "stream",
     "text": [
      "\n",
      "--- Ngspice Command ---\n",
      "/usr/bin/ngspice -b /workspaces/sw_pwr_03/circuits/simple_rc/netlists/top_orig.cir\n",
      "-----------------------\n",
      "\n",
      "\n",
      "Note: No compatibility mode selected!\n",
      "\n",
      "\n",
      "Circuit: ** top level netlist**\n",
      "\n",
      "Doing analysis at TEMP = 27.000000 and TNOM = 27.000000\n",
      "\n",
      "\n",
      "No. of Data Rows : 1\n",
      "\tNode                                  Voltage\n",
      "\t----                                  -------\n",
      "\t----\t-------\n",
      "\tout                              9.891197e-01\n",
      "\tcom                              0.000000e+00\n",
      "\tmid                              9.901088e-01\n",
      "\tin                               1.000000e+00\n",
      "\n",
      "\tSource\tCurrent\n",
      "\t------\t-------\n",
      "\n",
      "\tvin#branch                       -9.89120e-06\n",
      "\tvcom#branch                      9.891197e-06\n",
      "\n",
      " Capacitor models (Fixed capacitor)\n",
      "      model                     C\n",
      "\n",
      "        cap                     0\n",
      "         cj                     0\n",
      "       cjsw                     0\n",
      "       defw                 1e-05\n",
      "       defl                     0\n",
      "     narrow                     0\n",
      "      short                     0\n",
      "        del                     0\n",
      "        tc1                     0\n",
      "        tc2                     0\n",
      "         di                     0\n",
      "      thick                     0\n",
      "     bv_max                 1e+99\n",
      "\n",
      " Resistor models (Simple linear resistor)\n",
      "      model                     R\n",
      "\n",
      "        rsh                     0\n",
      "     narrow                     0\n",
      "      short                     0\n",
      "        tc1                     0\n",
      "        tc2                     0\n",
      "        tce                     0\n",
      "       defw                 1e-05\n",
      "          l                 1e-05\n",
      "         kf                     0\n",
      "         af                     0\n",
      "          r                     0\n",
      "     bv_max                 1e+99\n",
      "         lf                     1\n",
      "         wf                     1\n",
      "         ef                     1\n",
      "\n",
      " Capacitor: Fixed capacitor\n",
      "     device                    c1\n",
      "      model                     C\n",
      "capacitance                 1e-07\n",
      "      dtemp                     0\n",
      "     bv_max                 1e+99\n",
      "          i                     0\n",
      "          p                    -0\n",
      "\n",
      " Resistor: Simple linear resistor\n",
      "     device                 rload                    r2                    r1\n",
      "      model                     R                     R                     R\n",
      " resistance                100000                   100                  1000\n",
      "         ac                100000                   100                  1000\n",
      "      dtemp                     0                     0                     0\n",
      "     bv_max                 1e+99                 1e+99                 1e+99\n",
      "      noisy                     1                     1                     1\n",
      "          i            9.8912e-06            9.8912e-06            9.8912e-06\n",
      "          p           9.78358e-06           9.78358e-09           9.78358e-08\n",
      "\n",
      " Vsource: Independent voltage source\n",
      "     device                  vcom                   vin\n",
      "         dc                     0                     1\n",
      "      acmag                     0                     0\n",
      "      pulse         -         -\n",
      "        sin         -         -\n",
      "        exp         -         -\n",
      "        pwl         -         -\n",
      "       sffm         -         -\n",
      "         am         -         -\n",
      "    trnoise         -         -\n",
      "   trrandom         -         -\n",
      "    portnum                     0                     0\n",
      "         z0                     0                     0\n",
      "        pwr                     0                     0\n",
      "       freq                     0                     0\n",
      "      phase                     0                     0\n",
      "          i            9.8912e-06           -9.8912e-06\n",
      "          p                     0           -9.8912e-06\n",
      "\n",
      "\n",
      "Total analysis time (seconds) = 0\n",
      "\n",
      "Total elapsed time (seconds) = 0.086 \n",
      "\n",
      "Total DRAM available = 7929.973 MB.\n",
      "DRAM currently available =  172.562 MB.\n",
      "Maximum ngspice program size =   21.832 MB.\n",
      "Current ngspice program size =   11.625 MB.\n",
      "\n",
      "Shared ngspice pages =   10.000 MB.\n",
      "Text (code) pages =    5.430 MB.\n",
      "Stack = 0 bytes.\n",
      "Library pages =    2.105 MB.\n",
      "\n"
     ]
    }
   ],
   "source": [
    "sim1 = spi.Simulate(NGSPICE_EXE, TOP_ORIG_FILENAME)\n",
    "spi.print_section(\"Ngspice Command\", sim1)\n",
    "sim1.run()"
   ]
  }
 ],
 "metadata": {
  "kernelspec": {
   "display_name": "Python 3",
   "language": "python",
   "name": "python3"
  },
  "language_info": {
   "codemirror_mode": {
    "name": "ipython",
    "version": 3
   },
   "file_extension": ".py",
   "mimetype": "text/x-python",
   "name": "python",
   "nbconvert_exporter": "python",
   "pygments_lexer": "ipython3",
   "version": "3.12.1"
  }
 },
 "nbformat": 4,
 "nbformat_minor": 2
}
