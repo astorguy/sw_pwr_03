{
 "cells": [
  {
   "cell_type": "markdown",
   "metadata": {},
   "source": [
    "#### Imports"
   ]
  },
  {
   "cell_type": "code",
   "execution_count": 28,
   "metadata": {},
   "outputs": [],
   "source": [
    "import os\n",
    "from pathlib import Path\n",
    "import copy\n",
    "from typing import TypeAlias\n",
    "import numpy as np\n",
    "import numpy.typing as npt\n",
    "import py4spice as spi\n"
   ]
  },
  {
   "cell_type": "markdown",
   "metadata": {},
   "source": [
    "#### Constants and directories"
   ]
  },
  {
   "cell_type": "code",
   "execution_count": 29,
   "metadata": {},
   "outputs": [],
   "source": [
    "# Path to NGSPICE\n",
    "NGSPICE_EXE = Path(\"/usr/bin/ngspice\")\n",
    "\n",
    "# Path to my project\n",
    "PROJ_PATH = Path(\"/workspaces/sw_pwr_03/circuits/simple_rc\")\n",
    "\n",
    "# netlist file names\n",
    "NETLISTS_PATH = PROJ_PATH / \"netlists\"\n",
    "TOP_FILENAME = NETLISTS_PATH / \"top.cir\"\n",
    "DUT_FILENAME = NETLISTS_PATH / \"dut.cir\"\n",
    "LOAD_FILENAME = NETLISTS_PATH / \"load.cir\"\n",
    "STIMULUS_FILENAME = NETLISTS_PATH / \"stimulus.cir\"\n",
    "SUPPLIES_FILENAME = NETLISTS_PATH / \"supplies.cir\"\n",
    "CONTROL_FILENAME = NETLISTS_PATH / \"control.cir\""
   ]
  },
  {
   "cell_type": "markdown",
   "metadata": {},
   "source": [
    "#### Create netlists objects. We'll combine them after \"control\" netlist is constructed."
   ]
  },
  {
   "cell_type": "code",
   "execution_count": 30,
   "metadata": {},
   "outputs": [
    {
     "name": "stdout",
     "output_type": "stream",
     "text": [
      "R1 IN MID 1K\n",
      "C1 COM MID 0.1U\n",
      "R2 MID OUT 100\n",
      "RLOAD OUT COM 100K\n",
      "VIN IN 0 1\n",
      "VCOM COM 0 0\n"
     ]
    }
   ],
   "source": [
    "dut = spi.Netlist(NETLISTS_PATH / DUT_FILENAME)\n",
    "load = spi.Netlist(NETLISTS_PATH / LOAD_FILENAME)\n",
    "stimulus = spi.Netlist(NETLISTS_PATH / STIMULUS_FILENAME)\n",
    "supplies = spi.Netlist(NETLISTS_PATH / SUPPLIES_FILENAME)\n",
    "\n",
    "# Combine the netlists and write out the top netlist\n",
    "top = dut + load + stimulus + supplies\n",
    "top.writefile(TOP_FILENAME)\n",
    "print(top)"
   ]
  },
  {
   "cell_type": "markdown",
   "metadata": {},
   "source": [
    "#### Simulate"
   ]
  },
  {
   "cell_type": "code",
   "execution_count": 31,
   "metadata": {},
   "outputs": [
    {
     "name": "stderr",
     "output_type": "stream",
     "text": [
      "Note: No \".plot\", \".print\", or \".fourier\" lines; no simulations run\n",
      "ERROR:root:Error running ngspice simulation: Command '['/usr/bin/ngspice', '-b', '/workspaces/sw_pwr_03/circuits/simple_rc/netlists/top.cir']' returned non-zero exit status 1.\n"
     ]
    },
    {
     "name": "stdout",
     "output_type": "stream",
     "text": [
      "\n",
      "--- Ngspice Command ---\n",
      "/usr/bin/ngspice -b /workspaces/sw_pwr_03/circuits/simple_rc/netlists/top.cir\n",
      "-----------------------\n",
      "\n",
      "\n",
      "Note: No compatibility mode selected!\n",
      "\n",
      "\n",
      "Circuit: r1 in mid 1k\n",
      "\n"
     ]
    }
   ],
   "source": [
    "sim1 = spi.Simulate(NGSPICE_EXE, TOP_FILENAME)\n",
    "spi.print_section(\"Ngspice Command\", sim1)\n",
    "sim1.run()"
   ]
  }
 ],
 "metadata": {
  "kernelspec": {
   "display_name": "Python 3",
   "language": "python",
   "name": "python3"
  },
  "language_info": {
   "codemirror_mode": {
    "name": "ipython",
    "version": 3
   },
   "file_extension": ".py",
   "mimetype": "text/x-python",
   "name": "python",
   "nbconvert_exporter": "python",
   "pygments_lexer": "ipython3",
   "version": "3.12.1"
  }
 },
 "nbformat": 4,
 "nbformat_minor": 2
}
