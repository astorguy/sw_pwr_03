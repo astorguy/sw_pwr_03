{
 "cells": [
  {
   "cell_type": "markdown",
   "metadata": {},
   "source": [
    "#### Imports"
   ]
  },
  {
   "cell_type": "code",
   "execution_count": 44,
   "metadata": {},
   "outputs": [],
   "source": [
    "import os\n",
    "from pathlib import Path\n",
    "import copy\n",
    "from typing import TypeAlias\n",
    "import numpy as np\n",
    "import numpy.typing as npt\n",
    "import py4spice as spi"
   ]
  },
  {
   "cell_type": "markdown",
   "metadata": {},
   "source": [
    "#### Constants and directories"
   ]
  },
  {
   "cell_type": "code",
   "execution_count": 45,
   "metadata": {},
   "outputs": [],
   "source": [
    "# Path to NGSPICE\n",
    "NGSPICE_EXE = Path(\"/usr/bin/ngspice\")\n",
    "\n",
    "# Path to my project\n",
    "PROJ_PATH = Path(\"/workspaces/sw_pwr_03/circuits/simple_rc\")\n",
    "\n",
    "# netlist file names\n",
    "NETLISTS_PATH = PROJ_PATH / \"netlists\"\n",
    "TOP_FILENAME = NETLISTS_PATH / \"top.cir\"\n",
    "DUT_FILENAME = NETLISTS_PATH / \"dut.cir\"\n",
    "LOAD_FILENAME = NETLISTS_PATH / \"load.cir\"\n",
    "STIMULUS_FILENAME = NETLISTS_PATH / \"stimulus.cir\"\n",
    "SUPPLIES_FILENAME = NETLISTS_PATH / \"supplies.cir\"\n",
    "CONTROL_FILENAME = NETLISTS_PATH / \"control.cir\""
   ]
  },
  {
   "cell_type": "markdown",
   "metadata": {},
   "source": [
    "#### Create netlists objects. We'll combine them after \"control\" netlist is constructed."
   ]
  },
  {
   "cell_type": "code",
   "execution_count": 46,
   "metadata": {},
   "outputs": [],
   "source": [
    "dut = spi.Netlist(NETLISTS_PATH / DUT_FILENAME)\n",
    "load = spi.Netlist(NETLISTS_PATH / LOAD_FILENAME)\n",
    "supplies = spi.Netlist(NETLISTS_PATH / SUPPLIES_FILENAME)\n",
    "stimulus = spi.Netlist(NETLISTS_PATH / STIMULUS_FILENAME)"
   ]
  },
  {
   "cell_type": "markdown",
   "metadata": {},
   "source": [
    "#### Simulate"
   ]
  },
  {
   "cell_type": "code",
   "execution_count": 47,
   "metadata": {},
   "outputs": [
    {
     "name": "stdout",
     "output_type": "stream",
     "text": [
      "\n",
      "--- top netlist ---\n",
      "R1 IN MID 1K\n",
      "C1 COM MID 0.1U\n",
      "R2 MID OUT 100\n",
      "RLOAD OUT COM 100K\n",
      "VCOM COM 0 0\n",
      "VIN IN 0 1\n",
      ".op\n",
      "-------------------\n",
      "\n",
      "\n",
      "--- Ngspice Command ---\n",
      "/usr/bin/ngspice -b /workspaces/sw_pwr_03/circuits/simple_rc/netlists/top.cir\n",
      "-----------------------\n",
      "\n",
      "\n",
      "Note: No compatibility mode selected!\n",
      "\n",
      "\n",
      "Circuit: r1 in mid 1k\n",
      "\n",
      "Doing analysis at TEMP = 27.000000 and TNOM = 27.000000\n",
      "\n",
      "\n",
      "No. of Data Rows : 1\n",
      "\tNode                                  Voltage\n",
      "\t----                                  -------\n",
      "\t----\t-------\n",
      "\tin                               1.000000e+00\n",
      "\tout                              0.000000e+00\n",
      "\tmid                              0.000000e+00\n",
      "\tcom                              0.000000e+00\n",
      "\n",
      "\tSource\tCurrent\n",
      "\t------\t-------\n",
      "\n",
      "\tvcom#branch                      0.000000e+00\n",
      "\tvin#branch                       0.000000e+00\n",
      "\n",
      " Capacitor models (Fixed capacitor)\n",
      "      model                     C\n",
      "\n",
      "        cap                     0\n",
      "         cj                     0\n",
      "       cjsw                     0\n",
      "       defw                 1e-05\n",
      "       defl                     0\n",
      "     narrow                     0\n",
      "      short                     0\n",
      "        del                     0\n",
      "        tc1                     0\n",
      "        tc2                     0\n",
      "         di                     0\n",
      "      thick                     0\n",
      "     bv_max                 1e+99\n",
      "\n",
      " Resistor models (Simple linear resistor)\n",
      "      model                     R\n",
      "\n",
      "        rsh                     0\n",
      "     narrow                     0\n",
      "      short                     0\n",
      "        tc1                     0\n",
      "        tc2                     0\n",
      "        tce                     0\n",
      "       defw                 1e-05\n",
      "          l                 1e-05\n",
      "         kf                     0\n",
      "         af                     0\n",
      "          r                     0\n",
      "     bv_max                 1e+99\n",
      "         lf                     1\n",
      "         wf                     1\n",
      "         ef                     1\n",
      "\n",
      " Capacitor: Fixed capacitor\n",
      "     device                    c1\n",
      "      model                     C\n",
      "capacitance                 1e-07\n",
      "      dtemp                     0\n",
      "     bv_max                 1e+99\n",
      "          i                     0\n",
      "          p                     0\n",
      "\n",
      " Resistor: Simple linear resistor\n",
      "     device                 rload                    r2\n",
      "      model                     R                     R\n",
      " resistance                100000                   100\n",
      "         ac                100000                   100\n",
      "      dtemp                     0                     0\n",
      "     bv_max                 1e+99                 1e+99\n",
      "      noisy                     1                     1\n",
      "          i                     0                     0\n",
      "          p                     0                     0\n",
      "\n",
      " Vsource: Independent voltage source\n",
      "     device                   vin                  vcom\n",
      "         dc                     1                     0\n",
      "      acmag                     0                     0\n",
      "      pulse         -         -\n",
      "        sin         -         -\n",
      "        exp         -         -\n",
      "        pwl         -         -\n",
      "       sffm         -         -\n",
      "         am         -         -\n",
      "    trnoise         -         -\n",
      "   trrandom         -         -\n",
      "    portnum                     0                     0\n",
      "         z0                     0                     0\n",
      "        pwr                     0                     0\n",
      "       freq                     0                     0\n",
      "      phase                     0                     0\n",
      "          i                     0                     0\n",
      "          p                     0                     0\n",
      "\n",
      "\n",
      "Total analysis time (seconds) = 0\n",
      "\n",
      "Total elapsed time (seconds) = 0.002 \n",
      "\n",
      "Total DRAM available = 7929.973 MB.\n",
      "DRAM currently available =  169.773 MB.\n",
      "Maximum ngspice program size =   21.828 MB.\n",
      "Current ngspice program size =   11.625 MB.\n",
      "\n",
      "Shared ngspice pages =   10.000 MB.\n",
      "Text (code) pages =    5.430 MB.\n",
      "Stack = 0 bytes.\n",
      "Library pages =    2.102 MB.\n",
      "\n"
     ]
    }
   ],
   "source": [
    "# Combine the netlists and write out into one top netlist, ready to simulate\n",
    "top = dut + load + supplies + stimulus\n",
    "top.writefile(TOP_FILENAME)\n",
    "spi.print_section(\"top netlist\", top)\n",
    "\n",
    "sim1 = spi.Simulate(NGSPICE_EXE, TOP_FILENAME)\n",
    "spi.print_section(\"Ngspice Command\", sim1)\n",
    "sim1.run()"
   ]
  }
 ],
 "metadata": {
  "kernelspec": {
   "display_name": "Python 3",
   "language": "python",
   "name": "python3"
  },
  "language_info": {
   "codemirror_mode": {
    "name": "ipython",
    "version": 3
   },
   "file_extension": ".py",
   "mimetype": "text/x-python",
   "name": "python",
   "nbconvert_exporter": "python",
   "pygments_lexer": "ipython3",
   "version": "3.12.1"
  }
 },
 "nbformat": 4,
 "nbformat_minor": 2
}
