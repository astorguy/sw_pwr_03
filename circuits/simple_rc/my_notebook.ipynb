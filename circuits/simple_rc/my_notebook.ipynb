{
 "cells": [
  {
   "cell_type": "markdown",
   "metadata": {},
   "source": [
    "#### Imports"
   ]
  },
  {
   "cell_type": "code",
   "execution_count": 1,
   "metadata": {},
   "outputs": [],
   "source": [
    "import os\n",
    "from pathlib import Path\n",
    "import copy\n",
    "from typing import TypeAlias\n",
    "import numpy as np\n",
    "import numpy.typing as npt\n",
    "# import py4spice as spi\n"
   ]
  },
  {
   "cell_type": "markdown",
   "metadata": {},
   "source": [
    "#### Constants and directories"
   ]
  },
  {
   "cell_type": "code",
   "execution_count": 3,
   "metadata": {},
   "outputs": [],
   "source": [
    "# Path to NGSPICE\n",
    "NGSPICE_EXE = Path(\"/usr/bin/ngspice\")\n",
    "\n",
    "# Path to my project\n",
    "PROJ_PATH_ABS = Path(\"/workspaces/sw_pwr_03/circuits/simple_rc\")\n",
    "\n",
    "# Create a relative path to the project directory\n",
    "PROGRAM_PATH = Path(os.curdir)\n",
    "PROJ_PATH_REL = Path(os.path.relpath(PROJ_PATH_ABS, PROGRAM_PATH))"
   ]
  }
 ],
 "metadata": {
  "kernelspec": {
   "display_name": "Python 3",
   "language": "python",
   "name": "python3"
  },
  "language_info": {
   "codemirror_mode": {
    "name": "ipython",
    "version": 3
   },
   "file_extension": ".py",
   "mimetype": "text/x-python",
   "name": "python",
   "nbconvert_exporter": "python",
   "pygments_lexer": "ipython3",
   "version": "3.12.1"
  }
 },
 "nbformat": 4,
 "nbformat_minor": 2
}
